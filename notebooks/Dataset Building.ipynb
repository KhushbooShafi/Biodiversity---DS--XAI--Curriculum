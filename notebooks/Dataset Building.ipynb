{
 "cells": [
  {
   "cell_type": "markdown",
   "id": "fd7289c3-f4ff-4dab-afe0-3571cc4ba7f9",
   "metadata": {},
   "source": [
    "# Moderate Balanced Dataset Building for basic CNN Model\n",
    "\n",
    "\n",
    "### The orginal dataset can be downloaded from the AI Hub website: https://www.aihub.or.kr/aihubdata/data/view.do?currMenu=115&topMenu=100&aihubDataSe=data&dataSetSn=71667 \n",
    "\n",
    "### Extracting 5000 images per category for training and 500 images per category for validation from 유충 dataset:\n",
    "\n",
    "#### Normal (정상), \tVarroa Mite (응애), \tFoulbrood (부저) Chalkbrood (석고병)\n",
    "\n",
    "\n",
    "### Reason behind choosing 유충 dataset for CNN Classification:\n",
    "\n",
    "#### Starting with 유충 (Larvae) offers greater complexity with four distinct categories (Normal, Varroa Mite, Foulbrood, Chalkbrood), providing a richer challenge compared to 성충 (Adult Bees). The visible symptoms in Foulbrood and Chalkbrood make it easier to train and interpret models, resulting in clearer initial results. This complexity helps build a more robust model and lays a strong foundation for Explainable AI and comparative analysis with advanced models like YOLOv8 and EfficientDet."
   ]
  },
  {
   "cell_type": "code",
   "execution_count": 1,
   "id": "3b46e347-3ed2-4368-9e7c-98858bd705c1",
   "metadata": {},
   "outputs": [],
   "source": [
    "import os\n",
    "import shutil"
   ]
  },
  {
   "cell_type": "code",
   "execution_count": 3,
   "id": "08864efb-64bf-4be2-a792-f15632eda921",
   "metadata": {},
   "outputs": [
    {
     "name": "stdout",
     "output_type": "stream",
     "text": [
      "Copied 5000 images from 유충_부저병\n",
      "Copied 5000 images from 유충_석고병\n",
      "Copied 5000 images from 유충_응애\n",
      "Copied 5000 images from 유충_정상\n",
      "Copied 500 images from 유충_부저병\n",
      "Copied 500 images from 유충_석고병\n",
      "Copied 500 images from 유충_응애\n",
      "Copied 500 images from 유충_정상\n"
     ]
    }
   ],
   "source": [
    "# Directories for source and destination\n",
    "\n",
    "source_train_dir = r'C:\\Users\\user\\Documents\\EcoUp\\Honeybee Data\\OpenData\\Data\\Training\\Source Data\\TS\\유충'  # Path to 유충 training folders\n",
    "source_val_dir = r'C:\\Users\\user\\Documents\\EcoUp\\Honeybee Data\\OpenData\\Data\\Validation\\Source Data\\VS\\유충'  # Path to 유충 validation folders\n",
    "\n",
    "output_train_dir = r'C:\\Users\\user\\Documents\\EcoUp\\CNN Model\\Training'  # Path where the training subset will be saved\n",
    "output_val_dir = r'C:\\Users\\user\\Documents\\EcoUp\\CNN Model\\Validation'  # Path where the validation subset will be saved\n",
    "\n",
    "# Define the categories to include in the subset\n",
    "categories = ['유충_부저병', '유충_석고병', '유충_응애', '유충_정상']\n",
    "\n",
    "# Number of images per category for the subset\n",
    "num_train_images_per_category = 5000  # Extract 5000 images per category for training\n",
    "num_val_images_per_category = 500  # Extract 500 images per category for validation\n",
    "\n",
    "# Function to create the subset of images\n",
    "def create_image_subset(source_dir, output_dir, categories, num_images_per_category):\n",
    "    os.makedirs(output_dir, exist_ok=True)\n",
    "\n",
    "    for category in categories:\n",
    "        category_path = os.path.join(source_dir, category)\n",
    "        category_output_path = os.path.join(output_dir, category)\n",
    "        os.makedirs(category_output_path, exist_ok=True)\n",
    "\n",
    "        # List all subfolders (each folder containing an image) within the category\n",
    "        image_folders = [f for f in os.listdir(category_path) if os.path.isdir(os.path.join(category_path, f))]\n",
    "\n",
    "        # Copy the images from the subfolders to the category folder\n",
    "        images_copied = 0\n",
    "        for image_folder in image_folders:\n",
    "            image_folder_path = os.path.join(category_path, image_folder)\n",
    "            image_files = [f for f in os.listdir(image_folder_path) if f.endswith('.jpg')]\n",
    "\n",
    "            # Copy the first image found in each folder\n",
    "            if image_files:\n",
    "                img_file = image_files[0]\n",
    "                img_src_path = os.path.join(image_folder_path, img_file)\n",
    "                img_dst_path = os.path.join(category_output_path, img_file)\n",
    "                shutil.copy(img_src_path, img_dst_path)\n",
    "                images_copied += 1\n",
    "\n",
    "            if images_copied >= num_images_per_category:\n",
    "                break\n",
    "\n",
    "        print(f'Copied {images_copied} images from {category}')\n",
    "\n",
    "# Create training subset (5,000 images per category)\n",
    "create_image_subset(source_train_dir, output_train_dir, categories, num_train_images_per_category)\n",
    "\n",
    "# Create validation subset (500 images per category)\n",
    "create_image_subset(source_val_dir, output_val_dir, categories, num_val_images_per_category)\n"
   ]
  },
  {
   "cell_type": "code",
   "execution_count": null,
   "id": "352b544d-adec-483c-accb-2c11301df600",
   "metadata": {},
   "outputs": [],
   "source": []
  }
 ],
 "metadata": {
  "kernelspec": {
   "display_name": "Python 3 (ipykernel)",
   "language": "python",
   "name": "python3"
  },
  "language_info": {
   "codemirror_mode": {
    "name": "ipython",
    "version": 3
   },
   "file_extension": ".py",
   "mimetype": "text/x-python",
   "name": "python",
   "nbconvert_exporter": "python",
   "pygments_lexer": "ipython3",
   "version": "3.9.12"
  }
 },
 "nbformat": 4,
 "nbformat_minor": 5
}
